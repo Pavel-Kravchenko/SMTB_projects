{
 "cells": [
  {
   "cell_type": "code",
   "execution_count": 27,
   "metadata": {
    "scrolled": true
   },
   "outputs": [
    {
     "name": "stdout",
     "output_type": "stream",
     "text": [
      "File name ... /home/pavel/Desktop/ORF_SMTB/Sequences/Pseudendoclonium akinetum mitochondrion, complete genome.fasta\n",
      "Start position ... 5858\n",
      "Stop position ... 6180\n",
      "Chain [1]\\[-1] ... -1\n"
     ]
    },
    {
     "ename": "TypeError",
     "evalue": "translate() takes no keyword arguments",
     "output_type": "error",
     "traceback": [
      "\u001b[0;31m---------------------------------------------------------------------------\u001b[0m",
      "\u001b[0;31mTypeError\u001b[0m                                 Traceback (most recent call last)",
      "\u001b[0;32m<ipython-input-27-8f6a31d1dbde>\u001b[0m in \u001b[0;36m<module>\u001b[0;34m()\u001b[0m\n\u001b[1;32m     53\u001b[0m \u001b[0;32mwith\u001b[0m \u001b[0mopen\u001b[0m\u001b[0;34m(\u001b[0m\u001b[0mfile_fasta\u001b[0m\u001b[0;34m.\u001b[0m\u001b[0msplit\u001b[0m\u001b[0;34m(\u001b[0m\u001b[0;34m\".fasta\"\u001b[0m\u001b[0;34m)\u001b[0m\u001b[0;34m[\u001b[0m\u001b[0;36m0\u001b[0m\u001b[0;34m]\u001b[0m \u001b[0;34m+\u001b[0m \u001b[0;34m\"_cut.fasta\"\u001b[0m\u001b[0;34m,\u001b[0m \u001b[0;34m\"w\"\u001b[0m\u001b[0;34m)\u001b[0m \u001b[0;32mas\u001b[0m \u001b[0mout_file\u001b[0m\u001b[0;34m:\u001b[0m\u001b[0;34m\u001b[0m\u001b[0m\n\u001b[1;32m     54\u001b[0m     \u001b[0mout_file\u001b[0m\u001b[0;34m.\u001b[0m\u001b[0mwrite\u001b[0m\u001b[0;34m(\u001b[0m\u001b[0mname\u001b[0m\u001b[0;34m)\u001b[0m\u001b[0;34m\u001b[0m\u001b[0m\n\u001b[0;32m---> 55\u001b[0;31m     \u001b[0mline\u001b[0m \u001b[0;34m=\u001b[0m \u001b[0mstr\u001b[0m\u001b[0;34m(\u001b[0m\u001b[0msub_seq\u001b[0m\u001b[0;34m.\u001b[0m\u001b[0mtranslate\u001b[0m\u001b[0;34m(\u001b[0m\u001b[0mtable\u001b[0m\u001b[0;34m=\u001b[0m\u001b[0mCode_gen\u001b[0m\u001b[0;34m,\u001b[0m \u001b[0mto_stop\u001b[0m\u001b[0;34m=\u001b[0m\u001b[0;32mFalse\u001b[0m\u001b[0;34m)\u001b[0m\u001b[0;34m)\u001b[0m\u001b[0;34m\u001b[0m\u001b[0m\n\u001b[0m\u001b[1;32m     56\u001b[0m     \u001b[0;31m#print(line)\u001b[0m\u001b[0;34m\u001b[0m\u001b[0;34m\u001b[0m\u001b[0m\n\u001b[1;32m     57\u001b[0m     \u001b[0mmodule_fasta_writer\u001b[0m\u001b[0;34m(\u001b[0m\u001b[0mout_file\u001b[0m\u001b[0;34m,\u001b[0m \u001b[0mline\u001b[0m\u001b[0;34m)\u001b[0m\u001b[0;34m\u001b[0m\u001b[0m\n",
      "\u001b[0;31mTypeError\u001b[0m: translate() takes no keyword arguments"
     ]
    }
   ],
   "source": [
    "from Bio.Seq import Seq\n",
    "from Bio.Alphabet import generic_dna\n",
    "\n",
    "file_fasta = str(input(\"File name ... \"))\n",
    "start = int(input(\"Start position ... \"))\n",
    "stop = int(input(\"Stop position ... \"))\n",
    "chain = int(input(\"Chain [1]\\[-1] ... \"))\n",
    "Code_gen = [4, 3, 22][2]\n",
    "\n",
    "def seq_cut(sequence, start, stop, chain):\n",
    "    sequence = Seq(sequence, generic_dna)\n",
    "    sequence_rev = str(sequence.reverse_complement())\n",
    "    if chain == 1:\n",
    "        out_seq = sequence[start:stop]\n",
    "    else:\n",
    "        out_seq = sequence_rev[start:stop]\n",
    "    return out_seq\n",
    "\n",
    "def module_fasta_writer(out_file, line):  # модуль для записи в fasta формате \n",
    "    start_point = 0 # writes in fasta format by 60 nums in each line\n",
    "    end_point = 60\n",
    "    if len(line) > 60:\n",
    "        len_line = len(line)\n",
    "        while len_line > 0:\n",
    "            j = line[start_point:end_point]\n",
    "            len_line = len_line - 60\n",
    "            out_file.write(j + \"\\n\")\n",
    "            start_point = start_point + 60\n",
    "            end_point = end_point + 60\n",
    "    else:\n",
    "        out_file.write(line + \"\\n\")\n",
    "\n",
    "\n",
    "with open(file_fasta, \"r\") as in_file: # открываем файл с одной последовательностью и считываем по строчкам\n",
    "    sequence = []\n",
    "    name = \"\"\n",
    "    read_lines = in_file.readlines()\n",
    "    for i in range(len(read_lines)):\n",
    "        if read_lines[i][0] != \">\":\n",
    "            sequence.append(read_lines[i].strip())\n",
    "        else:\n",
    "            name = read_lines[i]\n",
    "    \n",
    "sequence = \"\".join(sequence)  # собираем все строчки в последовательность\n",
    "#print(sequence[:10])\n",
    "#print(\"Seq name is \", name)\n",
    "\n",
    "\n",
    "\n",
    "sub_seq = seq_cut(sequence, start, stop, chain)\n",
    "#print(sub_seq)\n",
    "\n",
    "with open(file_fasta.split(\".fasta\")[0] + \"_cut.fasta\", \"w\") as out_file:\n",
    "    out_file.write(name)\n",
    "    line = str(sub_seq.translate(table=Code_gen, to_stop=False)) \n",
    "    #print(line)\n",
    "    module_fasta_writer(out_file, line)\n",
    "\n",
    "print(\"Done!!!!!!\")"
   ]
  },
  {
   "cell_type": "code",
   "execution_count": null,
   "metadata": {},
   "outputs": [],
   "source": []
  },
  {
   "cell_type": "code",
   "execution_count": null,
   "metadata": {},
   "outputs": [],
   "source": []
  }
 ],
 "metadata": {
  "kernelspec": {
   "display_name": "Python 3",
   "language": "python",
   "name": "python3"
  },
  "language_info": {
   "codemirror_mode": {
    "name": "ipython",
    "version": 3
   },
   "file_extension": ".py",
   "mimetype": "text/x-python",
   "name": "python",
   "nbconvert_exporter": "python",
   "pygments_lexer": "ipython3",
   "version": "3.7.3"
  }
 },
 "nbformat": 4,
 "nbformat_minor": 2
}
