{
 "cells": [
  {
   "cell_type": "code",
   "execution_count": 1,
   "metadata": {},
   "outputs": [],
   "source": [
    "import sys # импортируем библиотеки\n",
    "import numpy\n",
    "import math\n",
    "import datetime\n",
    "import matplotlib\n",
    "from matplotlib import pyplot as plt\n",
    "import seaborn as sns\n",
    "import os\n",
    "import re\n",
    "import sys\n",
    "import pandas as pd\n",
    "import numpy as np\n",
    "from Bio.Seq import Seq\n",
    "import statistics\n",
    "from Bio.Blast import NCBIWWW\n",
    "from Bio.Blast import NCBIXML\n",
    "from Bio import Entrez\n",
    "from Bio import SeqIO\n",
    "Entrez.email= \"pavel-kravchenk0@yandex.ru\"\n",
    "from Bio.SeqUtils import GC\n",
    "from time import clock\n",
    "from dna_features_viewer import GraphicFeature, GraphicRecord, CircularGraphicRecord\n",
    "from dna_features_viewer import BiopythonTranslator\n",
    "import subprocess\n",
    "import random\n",
    "from random import randrange \n",
    "import argparse\n",
    "from itertools import groupby\n",
    "import itertools\n",
    "from Bio.Alphabet import generic_dna\n",
    "from Bio.SeqRecord import SeqRecord\n",
    "from Bio.Align import MultipleSeqAlignment\n",
    "from Bio.Alphabet import IUPAC, Gapped\n",
    "from Bio import Phylo\n",
    "from Bio.Align.Applications import ClustalwCommandline\n",
    "from sys import argv\n",
    "from Bio import AlignIO\n",
    "import matplotlib.gridspec as gridspec\n",
    "import seaborn as sns; sns.set()\n",
    "from scipy import stats\n",
    "from __future__ import print_function, division\n",
    "import matplotlib.pyplot as plt\n",
    "from IPython.core import page\n",
    "page.page = print\n",
    "import networkx as nx\n",
    "from skbio import DNA, TabularMSA\n",
    "import skbio.io\n",
    "from skbio.alignment import local_pairwise_align_ssw, global_pairwise_align_nucleotide\n",
    "from Bio.SeqUtils.ProtParam import ProteinAnalysis\n",
    "from Bio.Data import CodonTable\n"
   ]
  },
  {
   "cell_type": "code",
   "execution_count": 8,
   "metadata": {},
   "outputs": [
    {
     "data": {
      "text/plain": [
       "229"
      ]
     },
     "execution_count": 8,
     "metadata": {},
     "output_type": "execute_result"
    }
   ],
   "source": [
    "with open(\"/home/pavel/Desktop/ORF_SMTB/Sequences/arb-silva.de_2019-08-15_id694309_tax_silva.fasta\", \"r\") as in_file:\n",
    "    seqs={}\n",
    "    for line in in_file:\n",
    "        line = line.rstrip()\n",
    "        if len(line) > 0:\n",
    "            if line[0] == \">\":\n",
    "                name = line[1:]\n",
    "                seqs[name] = ''\n",
    "            else:\n",
    "                seqs[name] = seqs[name] + line\n",
    "\n",
    "\n",
    "cumm_dict_of_ids = {}\n",
    "for i in list(seqs.keys()):\n",
    "    #print(i)\n",
    "    #print(i.split(\";\")[-1].split(\"(\")[0])\n",
    "    organism = i.split(\";\")[-1].split(\"(\")[0].strip()\n",
    "    if organism in list(cumm_dict_of_ids.keys()):\n",
    "        continue\n",
    "    if organism not in list(cumm_dict_of_ids.keys()):\n",
    "        cumm_dict_of_ids[organism] = seqs[i]\n",
    "\n",
    "len(cumm_dict_of_ids.keys())"
   ]
  },
  {
   "cell_type": "code",
   "execution_count": 9,
   "metadata": {},
   "outputs": [
    {
     "data": {
      "text/plain": [
       "dict_keys(['Rattus norvegicus', 'Pan troglodytes', 'Homo sapiens', 'Canis lupus familiaris', 'Bos taurus', 'Monodelphis domestica', 'Dasypus novemcinctus', 'Oryctolagus cuniculus', 'Cavia porcellus', 'Felis catus', 'Erinaceus europaeus', 'Myotis lucifugus', 'Tupaia belangeri', 'Ictidomys tridecemlineatus', 'Otolemur garnettii', 'Equus caballus', 'Ochotona princeps', 'Ornithorhynchus anatinus', 'Loxodonta africana', 'Plasmodium vivax', 'Myodes rufocanus', 'Myodes andersoni', 'Meriones unguiculatus', 'Sus scrofa', 'Eothenomys smithii', 'Microcebus murinus', 'Pongo abelii', 'Notamacropus eugenii', 'Tursiops truncatus', 'Macaca fascicularis', 'Ursus thibetanus japonicus', 'Dipodomys ordii', 'Carlito syrichta', 'Phodopus sungorus', 'Callithrix jacchus', 'uncultured eukaryote', 'Procavia capensis', 'Pteropus vampyrus', 'Trichosurus vulpecula', 'Sarcophilus harrisii', 'Bos mutus', 'Mus musculus', 'Ailuropoda melanoleuca', 'Bubalus bubalis', 'Cellana toreuma', 'Plasmodium vivax North Korean', 'Microtus ochrogaster', 'Papio anubis', 'Pan paniscus', 'Nomascus leucogenys', 'Macaca mulatta', 'Plasmodium vivax Brazil I', 'Plasmodium vivax Mauritania I', 'Cricetulus sp.', 'Vulpes vulpes', 'Octodon degus', 'Ceratotherium simum simum', 'Myotis brandtii', 'Equus przewalskii', 'Pteronotus parnellii', 'Rhinolophus ferrumequinum', 'Cervus nippon hortulorum', 'Cerdocyon thous', 'Muridae environmental sample', 'Gorilla gorilla gorilla', 'Salmonella enterica subsp. enterica serovar Typhi', 'Squalius pyrenaicus', 'unidentified', 'Gerbillus gerbillus', 'Bos indicus', 'Pantholops hodgsonii', 'Didelphis virginiana', 'Picea glauca', 'Echinococcus granulosus', 'Physarum polycephalum', 'Lipotes vexillifer', 'Ursus maritimus', 'Cavia aperea', 'Cervus elaphus xanthopygus', 'Nymphon australe', 'Balaenoptera bonaerensis', 'Danio rerio', 'Camelus bactrianus', 'Marmota marmota marmota', 'Odocoileus virginianus', 'Paraechinus aethiopicus deserti', 'Chordata environmental sample', 'uncultured fungus', 'Microsporidium sp. BWOH9', 'Blarina sp. LSG-2009a', 'Besnoitia besnoiti', 'Besnoitia jellisoni', 'Spraguea lophii', 'Myotis ricketti', 'Chinchilla lanigera', 'Capra hircus', 'Abrothrix longipilis hirtus', 'Marmota monax', 'Psammomys obesus', 'Catostomus commersonii', 'Alosa alosa', 'Amia calva', 'Peromyscus californicus', 'Coregonus clupeaformis', 'Apteronotus albifrons', 'Vombatus ursinus', 'Chrysochloris asiatica', 'Orcinus orca', 'Cricetulus griseus', 'Alligator sinensis', 'Eidolon helvum', 'Streptococcus pneumoniae', 'synthetic construct', 'Tupaia chinensis', 'Pteropus alecto', 'Balaenoptera acutorostrata scammoni', 'Trichuris muris', 'Amphilophus citrinellus', 'Funneliformis mosseae', 'Gnathonemus petersii', 'Umbra pygmaea', 'Nephila clavipes', 'Myodes glareolus', 'Gallus gallus', 'uncultured bacterium', 'Rattus', 'Acinetobacter baumannii 136706', 'Crocuta crocuta', 'Glossina pallidipes', 'Galeopterus variegatus', 'Camelus dromedarius', 'Trachemys scripta', 'Mus pahari', 'Acanthoscurria geniculata', 'Neovison vison', 'Peromyscus sp. LSG-2009a', 'Chlamydia abortus', 'Cynopterus sphinx', 'Glossina palpalis gambiensis', 'Malaclemys terrapin terrapin', 'Rana catesbeiana', 'Salmo trutta', 'Salvelinus fontinalis', 'Gadus morhua', 'Nyctereutes procyonoides', 'Cricosaura typica', 'Lynx pardinus', 'Rousettus aegyptiacus', 'Photinus pyralis', 'Mesocricetus auratus', 'Manis javanica', 'Phodopus campbelli', 'Alosa pseudoharengus', 'Sminthopsis crassicaudata', 'Osteoglossum bicirrhosum', 'Coregonus lavaretus', 'Lepisosteus oculatus', 'Chirocentrus nudus', 'Microtus arvalis', 'Ilisha elongata', 'Larimichthys crocea', 'Mustela putorius furo', 'Crocodylus porosus', 'Mus', 'Microtus oeconomus', 'Budorcas taxicolor', 'Sarcoptes scabiei', 'Trichinella sp. T9', 'Trichinella zimbabwensis', 'Trichinella pseudospiralis', 'Trisopterus minutus', 'Mauremys mutica', 'Manis pentadactyla', 'Belnapia sp. F-4-1', 'Gavialis gangeticus', 'Klebsiella pneumoniae', 'Scophthalmus maximus', 'Sarcocystis neurona', 'Trichinella nativa', 'Campylobacter jejuni subsp. jejuni', 'Mandrillus leucophaeus', 'Pimephales promelas', 'Bison bison bison', 'Saccharina japonica', 'Trichinella britovi', 'Clupea harengus', 'Mauremys reevesii', 'Phoca largha', 'Capra aegagrus', 'Aotus nancymaae', 'Pseudomonas sp. 2', 'Macaca nemestrina', 'uncultured Microsporidium sp.', 'Hexamermis albicans', 'Caretta caretta', 'Cuora mouhotii', 'Ovis aries', 'Cercocebus atys', 'Delphinapterus leucas', 'Melanogrammus aeglefinus', 'Pogostemon cablin', 'Mauremys sinensis', 'Pectobacterium carotovorum subsp. brasiliense', 'Selaginella kraussiana', 'terrestrial metagenome', 'Eulemur flavifrons', 'Drosera capensis', 'Acinetobacter baumannii', 'gut metagenome', 'Kitasatospora sp. MY 5-36', 'Eulemur macaco', 'Achromobacter sp. Root565', 'Ensifer sp. Root258', 'Bacillus sp. Root239', 'Acidovorax sp. Root568', 'Hydrogenophaga sp. Root209', 'Gekko japonicus', 'Amazona aestiva', 'Streptomyces sp. Root63', 'Cyprinus carpio', 'Triticum aestivum', 'Komagataeibacter hansenii', 'Ensifer shofinae', 'Pseudomonas sp. BIOMIG1BDMA', 'Saccharomonospora sp. LRS4.154', 'Pseudomonas syringae pv. actinidiae', 'Oreochromis niloticus', 'Escherichia coli', 'Cyclospora cayetanensis'])"
      ]
     },
     "execution_count": 9,
     "metadata": {},
     "output_type": "execute_result"
    }
   ],
   "source": [
    "cumm_dict_of_ids.keys()"
   ]
  },
  {
   "cell_type": "code",
   "execution_count": 11,
   "metadata": {},
   "outputs": [
    {
     "name": "stdout",
     "output_type": "stream",
     "text": [
      "Done 1 !\n"
     ]
    }
   ],
   "source": [
    "def module_fasta_writer(out_file, line):  # модуль для записи в fasta формате \n",
    "    start_point = 0 # writes in fasta format by 60 nums in each line\n",
    "    end_point = 60\n",
    "    if len(line) > 60:\n",
    "        len_line = len(line)\n",
    "        while len_line > 0:\n",
    "            j = line[start_point:end_point]\n",
    "            len_line = len_line - 60\n",
    "            out_file.write(j + \"\\n\")\n",
    "            start_point = start_point + 60\n",
    "            end_point = end_point + 60\n",
    "    else:\n",
    "        out_file.write(line + \"\\n\")\n",
    "\n",
    "\n",
    "c = 0\n",
    "file_fasta = \"/home/pavel/Desktop/ORF_SMTB/Sequences/SILVA_cleaned.fasta\"\n",
    "with open(file_fasta, \"w\") as out_file:\n",
    "    for i in list(cumm_dict_of_ids.keys()):\n",
    "        out_file.write(\">\" + \"_\".join(i.split(\" \")) + \"_\" + str(c) + \"\\n\")\n",
    "        module_fasta_writer(out_file, cumm_dict_of_ids[i])\n",
    "        c += 1\n",
    "print(\"Done 1 !\")\n"
   ]
  },
  {
   "cell_type": "code",
   "execution_count": null,
   "metadata": {},
   "outputs": [],
   "source": []
  }
 ],
 "metadata": {
  "kernelspec": {
   "display_name": "Python 3",
   "language": "python",
   "name": "python3"
  },
  "language_info": {
   "codemirror_mode": {
    "name": "ipython",
    "version": 3
   },
   "file_extension": ".py",
   "mimetype": "text/x-python",
   "name": "python",
   "nbconvert_exporter": "python",
   "pygments_lexer": "ipython3",
   "version": "3.7.3"
  }
 },
 "nbformat": 4,
 "nbformat_minor": 2
}
